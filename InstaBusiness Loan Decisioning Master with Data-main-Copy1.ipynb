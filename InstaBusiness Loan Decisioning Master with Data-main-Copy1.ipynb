{
 "cells": [
  {
   "cell_type": "markdown",
   "metadata": {},
   "source": [
    "# Agent Loan Decisioning"
   ]
  },
  {
   "cell_type": "code",
   "execution_count": 3,
   "metadata": {},
   "outputs": [],
   "source": [
    "import datetime\n",
    "from datetime import date,timedelta\n",
    "import numpy as np\n",
    "import pandas as pd"
   ]
  },
  {
   "cell_type": "markdown",
   "metadata": {},
   "source": [
    "\n",
    "Qualifying Matrix\n",
    "\n",
    "1.\tAgent Length on Service - 3 months\n",
    "\n",
    "2.\tAgent Frequency of use/activity - >= 65 transactions(count) in total\n",
    "\n",
    "3.\tAgent Frequency of rebalance - >= 45 inbound(count) in total\n",
    "\n",
    "4.\tMedian Cash-In for last 90 days - avg. txn amnt - ghs5000 \n",
    "\n",
    "5.\tMode Cash-In for last 90 days - lowest amnt cash in - ghs1000 \n",
    "\n",
    "6.\tMedian Cash-Out for last 90 days - avg. txn amnt - ghs5000\n",
    "\n",
    "7.\tMode Cash-Out for last 90 days - lowest amnt cash out - ghs1000 "
   ]
  },
  {
   "cell_type": "code",
   "execution_count": 4,
   "metadata": {
    "scrolled": true
   },
   "outputs": [
    {
     "data": {
      "text/html": [
       "<div>\n",
       "<style scoped>\n",
       "    .dataframe tbody tr th:only-of-type {\n",
       "        vertical-align: middle;\n",
       "    }\n",
       "\n",
       "    .dataframe tbody tr th {\n",
       "        vertical-align: top;\n",
       "    }\n",
       "\n",
       "    .dataframe thead th {\n",
       "        text-align: right;\n",
       "    }\n",
       "</style>\n",
       "<table border=\"1\" class=\"dataframe\">\n",
       "  <thead>\n",
       "    <tr style=\"text-align: right;\">\n",
       "      <th></th>\n",
       "      <th>TRANSACTION_DATE</th>\n",
       "      <th>TRANSACTION_TIME</th>\n",
       "      <th>FROM_ACCT</th>\n",
       "      <th>FROM_NAME</th>\n",
       "      <th>FROM_NO.</th>\n",
       "      <th>TRANS_TYPE</th>\n",
       "      <th>AMOUNT</th>\n",
       "      <th>FEES</th>\n",
       "      <th>BA_ BEFORE</th>\n",
       "      <th>BAL_AFTER</th>\n",
       "      <th>TO_NO.</th>\n",
       "      <th>TO_NAME</th>\n",
       "      <th>TO_ACCT</th>\n",
       "      <th>F_ID</th>\n",
       "      <th>REF</th>\n",
       "      <th>OVA</th>\n",
       "    </tr>\n",
       "  </thead>\n",
       "  <tbody>\n",
       "    <tr>\n",
       "      <th>0</th>\n",
       "      <td>12/8/21</td>\n",
       "      <td>2:28:00 PM</td>\n",
       "      <td>43122976</td>\n",
       "      <td>Emmanuel Lamptey</td>\n",
       "      <td>244471083</td>\n",
       "      <td>DEBIT</td>\n",
       "      <td>240.0</td>\n",
       "      <td>0.0</td>\n",
       "      <td>1060</td>\n",
       "      <td>820</td>\n",
       "      <td>547169801</td>\n",
       "      <td>BluPay</td>\n",
       "      <td>57781322.0</td>\n",
       "      <td>15143397094</td>\n",
       "      <td>Ghana Telecommunicatio ns Company Limited</td>\n",
       "      <td>blupen.sp</td>\n",
       "    </tr>\n",
       "    <tr>\n",
       "      <th>1</th>\n",
       "      <td>12/8/21</td>\n",
       "      <td>1:05:00 PM</td>\n",
       "      <td>49853126</td>\n",
       "      <td>Interpush OVA</td>\n",
       "      <td>547169692</td>\n",
       "      <td>TRANSFER</td>\n",
       "      <td>250.0</td>\n",
       "      <td>0.0</td>\n",
       "      <td>810</td>\n",
       "      <td>1060</td>\n",
       "      <td>244471083</td>\n",
       "      <td>Emmanuel Lamptey</td>\n",
       "      <td>43122976.0</td>\n",
       "      <td>15142237113</td>\n",
       "      <td>NaN</td>\n",
       "      <td>Internal</td>\n",
       "    </tr>\n",
       "    <tr>\n",
       "      <th>2</th>\n",
       "      <td>12/6/21</td>\n",
       "      <td>10:19:00 AM</td>\n",
       "      <td>43122976</td>\n",
       "      <td>Emmanuel Lamptey</td>\n",
       "      <td>244471083</td>\n",
       "      <td>DEBIT</td>\n",
       "      <td>10.0</td>\n",
       "      <td>0.0</td>\n",
       "      <td>820</td>\n",
       "      <td>810</td>\n",
       "      <td>0</td>\n",
       "      <td>cis</td>\n",
       "      <td>53169694.0</td>\n",
       "      <td>15110411016</td>\n",
       "      <td>Internet Bundle</td>\n",
       "      <td>cis</td>\n",
       "    </tr>\n",
       "    <tr>\n",
       "      <th>3</th>\n",
       "      <td>12/5/21</td>\n",
       "      <td>5:47:00 PM</td>\n",
       "      <td>43122976</td>\n",
       "      <td>Emmanuel Lamptey</td>\n",
       "      <td>244471083</td>\n",
       "      <td>TRANSFER</td>\n",
       "      <td>21.0</td>\n",
       "      <td>0.0</td>\n",
       "      <td>841</td>\n",
       "      <td>820</td>\n",
       "      <td>596043235</td>\n",
       "      <td>Eric Kosi Oyeh</td>\n",
       "      <td>60123390.0</td>\n",
       "      <td>15103123903</td>\n",
       "      <td>1</td>\n",
       "      <td>Internal</td>\n",
       "    </tr>\n",
       "    <tr>\n",
       "      <th>4</th>\n",
       "      <td>12/30/21</td>\n",
       "      <td>10:55:00 AM</td>\n",
       "      <td>43122976</td>\n",
       "      <td>Emmanuel Lamptey</td>\n",
       "      <td>244471083</td>\n",
       "      <td>TRANSFER</td>\n",
       "      <td>20.0</td>\n",
       "      <td>0.0</td>\n",
       "      <td>450</td>\n",
       "      <td>430</td>\n",
       "      <td>247408068</td>\n",
       "      <td>Michael Ampadu</td>\n",
       "      <td>44181533.0</td>\n",
       "      <td>15441625272</td>\n",
       "      <td>1</td>\n",
       "      <td>Internal</td>\n",
       "    </tr>\n",
       "  </tbody>\n",
       "</table>\n",
       "</div>"
      ],
      "text/plain": [
       "  TRANSACTION_DATE TRANSACTION_TIME  FROM_ACCT         FROM_NAME   FROM_NO.  \\\n",
       "0          12/8/21       2:28:00 PM   43122976  Emmanuel Lamptey  244471083   \n",
       "1          12/8/21       1:05:00 PM   49853126     Interpush OVA  547169692   \n",
       "2          12/6/21      10:19:00 AM   43122976  Emmanuel Lamptey  244471083   \n",
       "3          12/5/21       5:47:00 PM   43122976  Emmanuel Lamptey  244471083   \n",
       "4         12/30/21      10:55:00 AM   43122976  Emmanuel Lamptey  244471083   \n",
       "\n",
       "  TRANS_TYPE  AMOUNT  FEES  BA_ BEFORE  BAL_AFTER     TO_NO.  \\\n",
       "0      DEBIT   240.0   0.0        1060        820  547169801   \n",
       "1   TRANSFER   250.0   0.0         810       1060  244471083   \n",
       "2      DEBIT    10.0   0.0         820        810          0   \n",
       "3   TRANSFER    21.0   0.0         841        820  596043235   \n",
       "4   TRANSFER    20.0   0.0         450        430  247408068   \n",
       "\n",
       "            TO_NAME     TO_ACCT         F_ID  \\\n",
       "0            BluPay  57781322.0  15143397094   \n",
       "1  Emmanuel Lamptey  43122976.0  15142237113   \n",
       "2               cis  53169694.0  15110411016   \n",
       "3    Eric Kosi Oyeh  60123390.0  15103123903   \n",
       "4    Michael Ampadu  44181533.0  15441625272   \n",
       "\n",
       "                                         REF        OVA  \n",
       "0  Ghana Telecommunicatio ns Company Limited  blupen.sp  \n",
       "1                                        NaN   Internal  \n",
       "2                            Internet Bundle        cis  \n",
       "3                                          1   Internal  \n",
       "4                                          1   Internal  "
      ]
     },
     "execution_count": 4,
     "metadata": {},
     "output_type": "execute_result"
    }
   ],
   "source": [
    "#Reading data from csv file\n",
    "\n",
    "momo_data = pd.read_csv(r'\\Users\\Chakdahah\\Cleaned_Momo.csv', skipinitialspace = True)\n",
    "\n",
    "# Clean whitespaces in colunn name and entire dataframe\n",
    "\n",
    "momo_data =momo_data.rename(columns=lambda x: x.strip())\n",
    "momo_data =momo_data.applymap(lambda x: x.strip() if isinstance(x, str) else x)\n",
    "\n",
    "momo_data.head()"
   ]
  },
  {
   "cell_type": "code",
   "execution_count": 5,
   "metadata": {},
   "outputs": [
    {
     "name": "stdout",
     "output_type": "stream",
     "text": [
      "<class 'pandas.core.frame.DataFrame'>\n",
      "RangeIndex: 89 entries, 0 to 88\n",
      "Data columns (total 16 columns):\n",
      " #   Column            Non-Null Count  Dtype  \n",
      "---  ------            --------------  -----  \n",
      " 0   TRANSACTION_DATE  89 non-null     object \n",
      " 1   TRANSACTION_TIME  89 non-null     object \n",
      " 2   FROM_ACCT         89 non-null     int64  \n",
      " 3   FROM_NAME         89 non-null     object \n",
      " 4   FROM_NO.          89 non-null     int64  \n",
      " 5   TRANS_TYPE        89 non-null     object \n",
      " 6   AMOUNT            89 non-null     float64\n",
      " 7   FEES              89 non-null     float64\n",
      " 8   BA_ BEFORE        89 non-null     int64  \n",
      " 9   BAL_AFTER         89 non-null     int64  \n",
      " 10  TO_NO.            89 non-null     int64  \n",
      " 11  TO_NAME           87 non-null     object \n",
      " 12  TO_ACCT           87 non-null     float64\n",
      " 13  F_ID              89 non-null     int64  \n",
      " 14  REF               70 non-null     object \n",
      " 15  OVA               89 non-null     object \n",
      "dtypes: float64(3), int64(6), object(7)\n",
      "memory usage: 11.3+ KB\n"
     ]
    }
   ],
   "source": [
    "momo_data.info(all)"
   ]
  },
  {
   "cell_type": "code",
   "execution_count": 6,
   "metadata": {},
   "outputs": [],
   "source": [
    "# Set empty list and dict\n",
    "masterData = []\n",
    "userData= {}"
   ]
  },
  {
   "cell_type": "markdown",
   "metadata": {},
   "source": [
    "# Calculation of scoring parameters"
   ]
  },
  {
   "cell_type": "code",
   "execution_count": 7,
   "metadata": {},
   "outputs": [],
   "source": [
    "\n",
    "rows = momo_data.count()[0] # Agent Frequency of use\n",
    "userData[\"freq_of_active\"] = rows\n",
    "\n",
    "\n",
    "\n",
    "MOMO=momo_data[(momo_data == 'CASH_IN').any(axis=1)] # frequency of rebalance\n",
    "MOMOR = MOMO.count()[0]\n",
    "userData[\"freq_of_repl\"] = MOMOR\n",
    "\n",
    "\n",
    "\n",
    "meadnie = momo_data.loc[momo_data['TRANS_TYPE']=='CASH_IN','AMOUNT'].median() #Median Cash-In for last 90days\n",
    "# userData[\"mead_cash_in\"] = meadnie\n",
    "# userData[\"mead_cash_in\"]\n",
    "userData[\"mead_cash_in_calc\"] = meadnie*4\n",
    "\n",
    "\n",
    "modnie = momo_data.loc[momo_data['TRANS_TYPE']=='CASH_IN','AMOUNT'].mode() # Mode Cash-In for last 90 days\n",
    "userData[\"modnie_cash_in_calc\"] = modnie*4\n",
    "userData[\"modnie_cash_in_calc\"] = userData[\"modnie_cash_in_calc\"]*4\n",
    "userData[\"modnie_cash_in_calc\"] = max(userData[\"modnie_cash_in_calc\"])\n",
    "\n",
    "\n",
    "meadniout = momo_data.loc[momo_data['TRANS_TYPE']=='CASH_OUT','AMOUNT'].median() # Median Cash-Out for last 90 days\n",
    "# userData[\"mead_cash_out\"] = meadniout\n",
    "# userData[\"mead_cash_out\"]\n",
    "userData[\"mead_cash_out_calc\"] = meadniout*4\n",
    "\n",
    "\n",
    "modno = momo_data.loc[momo_data['TRANS_TYPE']=='CASH_OUT','AMOUNT'].mode() # Mode Cash-Out for last 90 days\n",
    "userData[\"modno_cash_out_calc\"] = modno*4 \n",
    "userData[\"modno_cash_out_calc\"] = userData[\"modno_cash_out_calc\"]*4\n",
    "userData[\"modno_cash_out_calc\"] = max(userData[\"modno_cash_out_calc\"])\n",
    "\n",
    "\n"
   ]
  },
  {
   "cell_type": "markdown",
   "metadata": {},
   "source": [
    "# Scoring Criteria Calculation"
   ]
  },
  {
   "cell_type": "code",
   "execution_count": 8,
   "metadata": {},
   "outputs": [],
   "source": [
    "user_copy = userData.copy()\n",
    "masterData.append(user_copy)"
   ]
  },
  {
   "cell_type": "code",
   "execution_count": 9,
   "metadata": {},
   "outputs": [],
   "source": [
    "### scoring\n",
    "\n",
    "inelligible = []\n",
    "elligible = []"
   ]
  },
  {
   "cell_type": "code",
   "execution_count": 10,
   "metadata": {},
   "outputs": [
    {
     "name": "stdout",
     "output_type": "stream",
     "text": [
      "Inelligble []\n",
      "\n",
      "\n",
      "Elligible [{'freq_of_active': 89, 'freq_of_repl': 2, 'mead_cash_in_calc': 4190.0, 'modnie_cash_in_calc': 27040.0, 'mead_cash_out_calc': 2000.0, 'modno_cash_out_calc': 9600.0}]\n"
     ]
    }
   ],
   "source": [
    "Credit_score = 100\n",
    "\n",
    "\n",
    "for index in range(len(masterData)):\n",
    "\n",
    "    ## Frequency of use  >= 65 transactions(count) in total\n",
    "\n",
    "    if masterData[index][\"freq_of_active\"]> 65 and masterData[index][\"freq_of_active\"] <= 75:\n",
    "        user_copy = masterData[index]\n",
    "#         print(user_copy)\n",
    "        Credit_score += 50 \n",
    "    elif masterData[index][\"freq_of_active\"]> 75:\n",
    "        elig_copy = masterData[index]\n",
    "        Credit_score+= 100\n",
    "\n",
    "        \n",
    "        \n",
    "#Agent Frequency of rebalance - >= 45 inbound(count) in total\n",
    "\n",
    "    if masterData[index][\"freq_of_repl\"]>= 45 and masterData[index][\"freq_of_repl\"] <= 54:\n",
    "        user_copy = masterData[index]\n",
    "        Credit_score += 50 \n",
    "    elif masterData[index][\"freq_of_active\"]> 54:\n",
    "        elig_copy = masterData[index]\n",
    "        Credit_score+= 100\n",
    "\n",
    "        \n",
    "        \n",
    "        # Median Cash-In for last 90 days - avg. txn amnt - ghs5000 \n",
    "\n",
    "        \n",
    "    if masterData[index][\"mead_cash_in_calc\"] >= 5000:\n",
    "        user_copy = masterData[index]\n",
    "        Credit_score += 50\n",
    "        \n",
    "    else:\n",
    "        Credit_score+= 0\n",
    "\n",
    "        \n",
    "        \n",
    "          # Mode Cash-In for last 90 days - lowest amnt cash in - ghs1000 \n",
    "\n",
    "        \n",
    "    if masterData[index][\"modnie_cash_in_calc\"] >= 1000:\n",
    "        user_copy = masterData[index]\n",
    "        Credit_score += 50 \n",
    "        \n",
    "    else:\n",
    "        elig_copy = masterData[index]\n",
    "        Credit_score+= 0\n",
    "        \n",
    "        \n",
    "        \n",
    "       # Median Cash-Out for last 90 days - avg. txn amnt - ghs5000\n",
    "\n",
    "\n",
    "    if masterData[index][\"mead_cash_out_calc\"] > 5000:\n",
    "        user_copy = masterData[index]\n",
    "        Credit_score += 50 \n",
    "        \n",
    "    else:\n",
    "        elig_copy = masterData[index]\n",
    "        Credit_score+= 0\n",
    "        \n",
    "#     Mode Cash-Out for last 90 days - lowest amnt cash out - ghs1000 \n",
    "        \n",
    "    if masterData[index][\"modno_cash_out_calc\"] >= 1000:\n",
    "        user_copy = masterData[index]\n",
    "        Credit_score += 50 \n",
    "        \n",
    "    else:\n",
    "        elig_copy = masterData[index]\n",
    "        Credit_score+= 0     \n",
    "    \n",
    "\n",
    "#         print(elig_copy)\n",
    "elligible.append(elig_copy)\n",
    "        \n",
    "        \n",
    "        \n",
    "        \n",
    "print(\"Inelligble\", inelligible)\n",
    "print('\\n')\n",
    "print(\"Elligible\", elligible)\n",
    "    \n",
    "    "
   ]
  },
  {
   "cell_type": "code",
   "execution_count": 11,
   "metadata": {},
   "outputs": [
    {
     "data": {
      "text/plain": [
       "list"
      ]
     },
     "execution_count": 11,
     "metadata": {},
     "output_type": "execute_result"
    }
   ],
   "source": [
    "type(elligible)"
   ]
  },
  {
   "cell_type": "code",
   "execution_count": 14,
   "metadata": {},
   "outputs": [
    {
     "ename": "NameError",
     "evalue": "name 'df' is not defined",
     "output_type": "error",
     "traceback": [
      "\u001b[1;31m---------------------------------------------------------------------------\u001b[0m",
      "\u001b[1;31mNameError\u001b[0m                                 Traceback (most recent call last)",
      "Cell \u001b[1;32mIn[14], line 4\u001b[0m\n\u001b[0;32m      1\u001b[0m \u001b[38;5;66;03m# from collections import OrderedDict, defaultdict\u001b[39;00m\n\u001b[0;32m      2\u001b[0m \n\u001b[0;32m      3\u001b[0m \u001b[38;5;66;03m# ee = defaultdict(elligible)\u001b[39;00m\n\u001b[1;32m----> 4\u001b[0m \u001b[43mdf\u001b[49m\u001b[38;5;241m.\u001b[39mto_dict(elligible)\n",
      "\u001b[1;31mNameError\u001b[0m: name 'df' is not defined"
     ]
    }
   ],
   "source": [
    "# from collections import OrderedDict, defaultdict\n",
    "\n",
    "# ee = defaultdict(elligible)\n",
    "elligible.to_dict(elligible)\n"
   ]
  },
  {
   "cell_type": "code",
   "execution_count": null,
   "metadata": {},
   "outputs": [],
   "source": [
    "### convert dict to df\n",
    "\n",
    "pd.DataFrame.from_dict(Elligible)"
   ]
  },
  {
   "cell_type": "code",
   "execution_count": null,
   "metadata": {},
   "outputs": [],
   "source": [
    "## convert df to csv\n",
    "\n"
   ]
  },
  {
   "cell_type": "code",
   "execution_count": null,
   "metadata": {},
   "outputs": [],
   "source": [
    "Credit_score"
   ]
  },
  {
   "cell_type": "markdown",
   "metadata": {},
   "source": [
    "# Applying scores to Merchants"
   ]
  },
  {
   "cell_type": "code",
   "execution_count": null,
   "metadata": {},
   "outputs": [],
   "source": [
    "    \n",
    "    if Credit_score >= 200 and Credit_score <= 250:\n",
    "        print(\"You qualify for a GHS 1000 loan\")\n",
    "\n",
    "    elif Credit_score >= 251 and Credit_score <= 350:\n",
    "        print(\"You qualify for a GHS 2000 loan\")\n",
    "\n",
    "    elif Credit_score >= 351 and Credit_score <= 400:\n",
    "        print(\"You qualify for a GHS 3000 loan\")\n",
    "\n",
    "    elif Credit_score >= 401 and Credit_score <= 500:\n",
    "        print(\"You qualify for a GHS 5000 loan\")\n",
    "\n",
    "\n"
   ]
  },
  {
   "cell_type": "markdown",
   "metadata": {},
   "source": [
    "# Score and risk grade table "
   ]
  },
  {
   "cell_type": "code",
   "execution_count": null,
   "metadata": {},
   "outputs": [],
   "source": [
    "details = {\n",
    "    'Risk Ranking' : ['RR-1', 'RR-2', 'RR-3', 'RR-4'],\n",
    "    'Minimum Score' : [200,251,351,401],\n",
    "    'Maximum Score' : [250,350,400,500],\n",
    "    'Qualifying Amount(GHS)':[1000,2000,3000,5000]\n",
    "}\n",
    "  \n",
    "# creating a Dataframe object \n",
    "df = pd.DataFrame(details)\n",
    "df"
   ]
  }
 ],
 "metadata": {
  "kernelspec": {
   "display_name": "Python 3 (ipykernel)",
   "language": "python",
   "name": "python3"
  },
  "language_info": {
   "codemirror_mode": {
    "name": "ipython",
    "version": 3
   },
   "file_extension": ".py",
   "mimetype": "text/x-python",
   "name": "python",
   "nbconvert_exporter": "python",
   "pygments_lexer": "ipython3",
   "version": "3.11.2"
  }
 },
 "nbformat": 4,
 "nbformat_minor": 4
}

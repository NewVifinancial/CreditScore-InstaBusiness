{
 "cells": [
  {
   "cell_type": "markdown",
   "metadata": {},
   "source": [
    "# Agent Loan Decisioning"
   ]
  },
  {
   "cell_type": "code",
   "execution_count": null,
   "metadata": {
    "scrolled": true
   },
   "outputs": [],
   "source": [
    "import sys\n",
    "import datetime\n",
    "from datetime import date,timedelta\n",
    "import numpy as np\n",
    "import pandas as pd\n",
    "import camelot\n",
    "import matplotlib.pyplot as plt\n",
    "import logging"
   ]
  },
  {
   "cell_type": "code",
   "execution_count": null,
   "metadata": {},
   "outputs": [],
   "source": [
    "logging.basicConfig(format='%(asctime)s - %(message)s', level=logging.INFO)\n",
    "logging.info('Code Begin')"
   ]
  },
  {
   "cell_type": "code",
   "execution_count": null,
   "metadata": {
    "scrolled": true
   },
   "outputs": [],
   "source": [
    "# sys.maxsize\n",
    "# 2147483647\n"
   ]
  },
  {
   "cell_type": "markdown",
   "metadata": {},
   "source": [
    "\n",
    "Qualifying Matrix\n",
    "\n",
    "1.\tAgent Length of Service - 3 months\n",
    "\n",
    "2.\tAgent Frequency of use/activity - >= 65 transactions(count) in total\n",
    "\n",
    "3.\tAgent Frequency of rebalance - >= 45 inbound(count) in total\n",
    "\n",
    "4.\tMedian Cash-In for last 90 days - avg. txn amnt - ghs5000 \n",
    "\n",
    "5.\tMode Cash-In for last 90 days - lowest amnt cash in - ghs1000 \n",
    "\n",
    "6.\tMedian Cash-Out for last 90 days - avg. txn amnt - ghs5000\n",
    "\n",
    "7.\tMode Cash-Out for last 90 days - lowest amnt cash out - ghs1000 "
   ]
  },
  {
   "cell_type": "code",
   "execution_count": null,
   "metadata": {
    "scrolled": true
   },
   "outputs": [],
   "source": [
    "\n",
    "##### full pdf reading\n",
    "\n",
    "# tables = camelot.read_pdf(r'C:\\Users\\Chakdahah\\MomoStatementReport.pdf',pages='all') #emma data\n",
    "# tables = camelot.read_pdf(r'C:\\Users\\Chakdahah\\momopages2.pdf',pages='all') # 2 pages prince\n",
    "# tables = camelot.read_pdf(r'C:\\Users\\Chakdahah\\Momopages3.pdf',pages='all') #50 pages prince\n",
    "# tables = camelot.read_pdf(r'C:\\Users\\Chakdahah\\lastlast.pdf',pages='all') # 5 pages prince containig each month \n",
    "# tables = camelot.read_pdf(r'C:\\Users\\Chakdahah\\MomoStatement98.pdf',pages='all') # 98 pages prince containig each month 26mi\n",
    "# tables = camelot.read_pdf(r'C:\\Users\\Chakdahah\\MomoStatementmax.pdf',pages='all') # maxwell 235 pages \n",
    "# tables = camelot.read_pdf(r'C:\\Users\\Chakdahah\\MomoStatement256.pdf',pages='all') # maxwell 256 pages \n",
    "tables = camelot.read_pdf(r'C:\\Users\\Chakdahah\\MomoStatement298.pdf',pages='all') # amokoaa regina 298 pages  \n",
    "\n",
    "tables\n",
    "\n",
    "\n",
    "\n",
    "# tables[j].parsing_report #check parsing report to see accuracy of parsing and other details\n",
    "\n",
    "# append to one csv file\n",
    "\n",
    "table_fin = tables[0].df #convert first table to df and assign to variable \n",
    "\n",
    "for i in range(1,len(tables)-1): # skip 0-nth of tables\n",
    "    print(i)\n",
    "    t = tables[i].df \n",
    "    t.drop(t.index[0], inplace = True) # drop first row of df\n",
    "    table_fin = pd.concat([table_fin, t], axis = 0)\n",
    "    \n",
    "\n",
    "    print(t)\n"
   ]
  },
  {
   "cell_type": "code",
   "execution_count": null,
   "metadata": {
    "scrolled": true
   },
   "outputs": [],
   "source": [
    "# Assign tables into momo data variable\n",
    "\n",
    "momo_data = table_fin\n",
    "momo_data"
   ]
  },
  {
   "cell_type": "code",
   "execution_count": null,
   "metadata": {},
   "outputs": [],
   "source": [
    "momo_data[~momo_data.iloc[:,0].str.contains(\"\\n\")]"
   ]
  },
  {
   "cell_type": "code",
   "execution_count": null,
   "metadata": {
    "scrolled": true
   },
   "outputs": [],
   "source": [
    "momo_data.columns = momo_data.iloc[0] #set column names equal to values in row index position 0\n",
    "momo_data = momo_data[1:] # remove first row from DataFrame"
   ]
  },
  {
   "cell_type": "code",
   "execution_count": null,
   "metadata": {
    "scrolled": true
   },
   "outputs": [],
   "source": [
    "momo_data.reset_index(drop=True, inplace=True)"
   ]
  },
  {
   "cell_type": "code",
   "execution_count": null,
   "metadata": {
    "scrolled": true
   },
   "outputs": [],
   "source": [
    "momo_data"
   ]
  },
  {
   "cell_type": "code",
   "execution_count": null,
   "metadata": {
    "scrolled": true
   },
   "outputs": [],
   "source": [
    "#Reading data from csv file\n",
    "\n",
    "# momo_data = pd.read_csv(r'\\Users\\Chakdahah\\Cleaned_Momo.csv', skipinitialspace = True)\n",
    "\n",
    "# Clean whitespaces in colunn name and entire dataframe\n",
    "\n",
    "momo_data =momo_data.rename(columns=lambda x: x.strip())\n",
    "momo_data =momo_data.applymap(lambda x: x.strip() if isinstance(x, str) else x)\n",
    "\n",
    "momo_data.head()"
   ]
  },
  {
   "cell_type": "code",
   "execution_count": null,
   "metadata": {
    "scrolled": true
   },
   "outputs": [],
   "source": [
    "\n",
    "# remove unwanted characters from end of column names\n",
    "# mmomo_data.rename(columns=lambda x: x.strip('.'),inplace =True)\n",
    "\n",
    "# remove all unwanted char acters in column names\n",
    "momo_data.rename(columns=lambda s: s.replace(\".\", \"\"), inplace=True)\n",
    "\n",
    "# replace whitespaces with underscore\n",
    "momo_data.rename(columns=lambda s: s.replace(\" \", \"_\"), inplace=True)"
   ]
  },
  {
   "cell_type": "code",
   "execution_count": null,
   "metadata": {
    "scrolled": true
   },
   "outputs": [],
   "source": [
    "# cast appropriate data types\n",
    "momo_data['AMOUNT'] = pd.to_numeric(momo_data['AMOUNT'],errors='coerce')\n",
    "momo_data['BAL_BEFORE'] = pd.to_numeric(momo_data['BAL_BEFORE'],errors='coerce')\n",
    "momo_data['BAL_AFTER'] = pd.to_numeric(momo_data['BAL_AFTER'],errors='coerce')\n",
    "momo_data['F_ID'] = pd.to_numeric(momo_data['F_ID'],errors='coerce')\n"
   ]
  },
  {
   "cell_type": "code",
   "execution_count": null,
   "metadata": {
    "scrolled": true
   },
   "outputs": [],
   "source": [
    "momo_data.info(all)"
   ]
  },
  {
   "cell_type": "code",
   "execution_count": null,
   "metadata": {
    "scrolled": true
   },
   "outputs": [],
   "source": [
    "#Suppressing any scientific notation in entire csv file.\n",
    "\n",
    "pd.set_option('display.float_format', lambda x: '%.0f' % x)"
   ]
  },
  {
   "cell_type": "code",
   "execution_count": null,
   "metadata": {
    "scrolled": false
   },
   "outputs": [],
   "source": [
    "momo_data.head()"
   ]
  },
  {
   "cell_type": "code",
   "execution_count": null,
   "metadata": {},
   "outputs": [],
   "source": [
    "m =momo_data['TRANSACTION_DATE'].str.split(' ', expand=True)\n"
   ]
  },
  {
   "cell_type": "code",
   "execution_count": null,
   "metadata": {},
   "outputs": [],
   "source": [
    "\n",
    "momo_data['TRANSACTION_DATE'] = m[0]\n",
    "momo_data['TRANSACTION_TIME'] = m[1]\n"
   ]
  },
  {
   "cell_type": "code",
   "execution_count": null,
   "metadata": {},
   "outputs": [],
   "source": [
    "# shift column 'C' to first position\n",
    "first_column = momo_data.pop('TRANSACTION_TIME')\n",
    "  \n",
    "# insert column using insert(position,column_name,first_column) function\n",
    "momo_data.insert(1, 'TRANSACTION_TIME', first_column)\n",
    "  "
   ]
  },
  {
   "cell_type": "code",
   "execution_count": null,
   "metadata": {
    "scrolled": true
   },
   "outputs": [],
   "source": [
    "momo_data.info(all)"
   ]
  },
  {
   "cell_type": "code",
   "execution_count": null,
   "metadata": {},
   "outputs": [],
   "source": [
    "momo_data['FROM_NAME'] = momo_data.FROM_NAME.str.replace('\\n',' ')"
   ]
  },
  {
   "cell_type": "code",
   "execution_count": null,
   "metadata": {
    "scrolled": true
   },
   "outputs": [],
   "source": [
    "momo_data.tail()"
   ]
  },
  {
   "cell_type": "code",
   "execution_count": null,
   "metadata": {},
   "outputs": [],
   "source": [
    "num=momo_data.loc[momo_data['TRANS_TYPE'] == 'CASH_IN', 'FROM_NO'].iloc[0]\n",
    "num"
   ]
  },
  {
   "cell_type": "code",
   "execution_count": null,
   "metadata": {},
   "outputs": [],
   "source": [
    "name=momo_data.loc[momo_data['TRANS_TYPE'] == 'CASH_IN', 'FROM_NAME'].iloc[0]\n",
    "name"
   ]
  },
  {
   "cell_type": "code",
   "execution_count": null,
   "metadata": {
    "scrolled": true
   },
   "outputs": [],
   "source": [
    "momo_data[~momo_data.iloc[:,0].str.contains(\"\\n\")]"
   ]
  },
  {
   "cell_type": "code",
   "execution_count": null,
   "metadata": {},
   "outputs": [],
   "source": [
    "df3=momo_data.loc[momo_data['TRANS_TYPE'] == 'CASH_IN', 'FROM_NAME'].iloc[0]\n",
    "df3"
   ]
  },
  {
   "cell_type": "code",
   "execution_count": null,
   "metadata": {},
   "outputs": [],
   "source": [
    "momo_data =momo_data.dropna()"
   ]
  },
  {
   "cell_type": "code",
   "execution_count": null,
   "metadata": {},
   "outputs": [],
   "source": [
    "# store date as object for later use\n",
    "mi = momo_data['TRANSACTION_DATE']"
   ]
  },
  {
   "cell_type": "code",
   "execution_count": null,
   "metadata": {},
   "outputs": [],
   "source": [
    "momo_data['TRANSACTION_DATE'] = pd.to_datetime(momo_data['TRANSACTION_DATE'])"
   ]
  },
  {
   "cell_type": "markdown",
   "metadata": {},
   "source": [
    "# Converting PDF to CSV and XLSX\n"
   ]
  },
  {
   "cell_type": "code",
   "execution_count": null,
   "metadata": {
    "scrolled": true
   },
   "outputs": [],
   "source": [
    "## convert momo_data to csv\n",
    "momo_data.to_csv(r'C:\\Users\\Chakdahah\\Downloads\\Django-main\\Django-main\\analytics_project\\StrippedMomotoCSV298.csv',date_format='%d/%m/%Y')\n",
    "\n",
    "momo_data.to_excel(\"StrippedMomotoXLS298.xlsx\")"
   ]
  },
  {
   "cell_type": "code",
   "execution_count": null,
   "metadata": {
    "scrolled": true
   },
   "outputs": [],
   "source": [
    "# Set empty list and dict\n",
    "masterData = []\n",
    "userData= {}"
   ]
  },
  {
   "cell_type": "markdown",
   "metadata": {},
   "source": [
    "# Calculation of scoring parameters"
   ]
  },
  {
   "cell_type": "code",
   "execution_count": null,
   "metadata": {
    "scrolled": true
   },
   "outputs": [],
   "source": [
    "\n",
    "rows = momo_data.count()[0] # Agent Frequency of use\n",
    "userData[\"freq_of_active\"] = rows\n",
    "\n",
    "\n",
    "\n",
    "MOMO=momo_data[(momo_data == 'CASH_IN').any(axis=1)] # frequency of rebalance\n",
    "MOMOR = MOMO.count()[0]\n",
    "userData[\"freq_of_repl\"] = MOMOR\n",
    "\n",
    "\n",
    "meadnie = momo_data.loc[momo_data['TRANS_TYPE']=='CASH_IN','AMOUNT'].median() #Median Cash-In for last 90days\n",
    "# userData[\"mead_cash_in\"] = meadnie\n",
    "# userData[\"mead_cash_in\"]\n",
    "userData[\"median_cash_in_calc\"] = meadnie*4\n",
    "\n",
    "\n",
    "modnie = momo_data.loc[momo_data['TRANS_TYPE']=='CASH_IN','AMOUNT'].mode() # Mode Cash-In for last 90 days\n",
    "userData[\"mode_cash_in_calc\"] = modnie*4\n",
    "userData[\"mode_cash_in_calc\"] = max(userData[\"mode_cash_in_calc\"]) #for converting from bool to int for processing\n",
    "\n",
    "\n",
    "meadniout = momo_data.loc[momo_data['TRANS_TYPE']=='CASH_OUT','AMOUNT'].median() # Median Cash-Out for last 90 days\n",
    "# userData[\"mead_cash_out\"] = meadniout\n",
    "# userData[\"mead_cash_out\"]\n",
    "userData[\"median_cash_out_calc\"] = meadniout*4\n",
    "\n",
    "\n",
    "modno = momo_data.loc[momo_data['TRANS_TYPE']=='CASH_OUT','AMOUNT'].mode() # Mode Cash-Out for last 90 days\n",
    "userData[\"mode_cash_out_calc\"] = modno*4 \n",
    "userData[\"mode_cash_out_calc\"] = max(userData[\"mode_cash_out_calc\"])\n",
    "\n",
    "\n"
   ]
  },
  {
   "cell_type": "code",
   "execution_count": null,
   "metadata": {},
   "outputs": [],
   "source": [
    "# momo_data.loc[momo_data['TRANS_TYPE']=='CASH_OUT','AMOUNT'].mode() # Mode Cash-Out for last 90 days\n"
   ]
  },
  {
   "cell_type": "code",
   "execution_count": null,
   "metadata": {
    "scrolled": true
   },
   "outputs": [],
   "source": [
    "\n",
    "# print(modnie)\n",
    "# userData[\"mode_cash_in_calc\"] = modnie*4\n",
    "# print(userData[\"mode_cash_in_calc\"])\n",
    "# # userData[\"mode_cash_out_calc\"] = userData[\"mode_cash_out_calc\"]*4\n",
    "\n",
    "# # print(max(userData[\"mode_cash_in_calc\"]))"
   ]
  },
  {
   "cell_type": "code",
   "execution_count": null,
   "metadata": {},
   "outputs": [],
   "source": [
    "# print(max(userData[\"mode_cash_in_calc\"]))"
   ]
  },
  {
   "cell_type": "markdown",
   "metadata": {},
   "source": [
    "# Scoring Criteria Calculation"
   ]
  },
  {
   "cell_type": "code",
   "execution_count": null,
   "metadata": {
    "scrolled": true
   },
   "outputs": [],
   "source": [
    "user_copy = userData.copy()\n",
    "masterData.append(user_copy)"
   ]
  },
  {
   "cell_type": "code",
   "execution_count": null,
   "metadata": {
    "scrolled": true
   },
   "outputs": [],
   "source": [
    "### scoring\n",
    "\n",
    "inelligible = []\n",
    "elligible = []\n",
    "score_table = []\n",
    "scoring_table = {}\n",
    "combined = []"
   ]
  },
  {
   "cell_type": "code",
   "execution_count": null,
   "metadata": {},
   "outputs": [],
   "source": [
    "scoring_table[\"Agent Number\"] = num\n",
    "scoring_table[\"Agent Name\"] = name"
   ]
  },
  {
   "cell_type": "code",
   "execution_count": null,
   "metadata": {
    "scrolled": false
   },
   "outputs": [],
   "source": [
    "\n",
    "\n",
    "## Agent Length of Service - 3 months\n",
    "\n",
    "for i in mi:\n",
    "    u = mi.str.extract('([a-zA-Z ]+)', expand=False).str.strip()\n",
    "    monthcount = u.drop_duplicates()\n",
    "print(monthcount)\n",
    "\n",
    "if len(monthcount)>=3:\n",
    "    scoring_table[\"Length of Service\"] = 100\n",
    "    Credit_score = 100\n",
    "else:\n",
    "    scoring_table[\"Length of Service\"] = 0\n",
    "    Credit_score = 0\n",
    "\n",
    "\n",
    "for index in range(len(masterData)):\n",
    "\n",
    "    ## Frequency of use  >= 65 transactions(count) in total\n",
    "\n",
    "    if masterData[index][\"freq_of_active\"]> 65 and masterData[index][\"freq_of_active\"] <= 75:\n",
    "        user_copy = masterData[index]\n",
    "#         print(user_copy)\n",
    "        Credit_score += 50\n",
    "        scoring_table[\"Frequency of Activity\"] = 50\n",
    "    elif masterData[index][\"freq_of_active\"]> 75:\n",
    "        elig_copy = masterData[index]\n",
    "        Credit_score+= 100\n",
    "        scoring_table[\"Frequency of Activity\"] = 100\n",
    "    else:\n",
    "        scoring_table[\"Frequency of Activity\"] = 0\n",
    "\n",
    "\n",
    "        \n",
    "\n",
    "        \n",
    "        \n",
    "#Agent Frequency of rebalance - >= 45 inbound(count) in total\n",
    "\n",
    "    if masterData[index][\"freq_of_repl\"]>= 45 and masterData[index][\"freq_of_repl\"] <= 54:\n",
    "        user_copy = masterData[index]\n",
    "        Credit_score += 50 \n",
    "        scoring_table[\"Frequency of Rebalance\"] = 50\n",
    "    elif masterData[index][\"freq_of_active\"]> 54:\n",
    "        elig_copy = masterData[index]\n",
    "        Credit_score+= 100\n",
    "        scoring_table[\"Frequency of Rebalance\"] = 100\n",
    "    else:\n",
    "        scoring_table[\"Frequency of Rebalance\"] = 0\n",
    "        \n",
    "\n",
    "        \n",
    "        \n",
    "        # Median Cash-In for last 90 days - avg. txn amnt - ghs5000 \n",
    "\n",
    "        \n",
    "    if masterData[index][\"median_cash_in_calc\"] >= 5000:\n",
    "        user_copy = masterData[index]\n",
    "        Credit_score += 50\n",
    "        scoring_table[\"Median Cash In\"] = 50\n",
    "    else:\n",
    "        Credit_score+= 0\n",
    "        scoring_table[\"Median Cash In\"] = 0\n",
    "\n",
    "        \n",
    "        \n",
    "          # Mode Cash-In for last 90 days - lowest amnt cash in - ghs1000 \n",
    "\n",
    "        \n",
    "    if masterData[index][\"mode_cash_in_calc\"] >= 1000:\n",
    "        user_copy = masterData[index]\n",
    "        Credit_score += 50 \n",
    "        scoring_table[\"Mode Cash In\"] = 50\n",
    "        \n",
    "    else:\n",
    "        elig_copy = masterData[index]\n",
    "        Credit_score+= 0\n",
    "        scoring_table[\"Mode Cash In\"] = 0\n",
    "        \n",
    "        \n",
    "        \n",
    "       # Median Cash-Out for last 90 days - avg. txn amnt - ghs5000\n",
    "\n",
    "\n",
    "    if masterData[index][\"median_cash_out_calc\"] > 5000:\n",
    "        user_copy = masterData[index]\n",
    "        Credit_score += 50 \n",
    "        scoring_table[\"Median Cash Out\"] = 50\n",
    "    else:\n",
    "        elig_copy = masterData[index]\n",
    "        Credit_score+= 0\n",
    "        scoring_table[\"Median Cash Out\"] = 0\n",
    "        \n",
    "#     Mode Cash-Out for last 90 days - lowest amnt cash out - ghs1000 \n",
    "        \n",
    "    if masterData[index][\"mode_cash_out_calc\"] >= 1000:\n",
    "        user_copy = masterData[index]\n",
    "        Credit_score += 50 \n",
    "        scoring_table[\"Mode Cash Out\"] = 50\n",
    "    else:\n",
    "        elig_copy = masterData[index]\n",
    "        Credit_score+= 0   \n",
    "        scoring_table[\"Mode Cash Out\"] = 0\n",
    "    \n",
    "\n",
    "#         print(elig_copy)\n",
    "scoring_table[\"Credit Score\"] = Credit_score\n",
    "score_table.append(scoring_table)        \n",
    "        \n",
    "    "
   ]
  },
  {
   "cell_type": "code",
   "execution_count": null,
   "metadata": {},
   "outputs": [],
   "source": [
    "elligible.append(elig_copy)"
   ]
  },
  {
   "cell_type": "markdown",
   "metadata": {},
   "source": [
    "# Applying scores to Merchants"
   ]
  },
  {
   "cell_type": "code",
   "execution_count": null,
   "metadata": {
    "scrolled": true
   },
   "outputs": [],
   "source": [
    "    \n",
    "    if Credit_score >= 200 and Credit_score <= 250:\n",
    "        print(\"You qualify for a GHS 1000 loan\")\n",
    "        scoring_table[\"Eligibility\"] = 1000\n",
    "\n",
    "    elif Credit_score >= 251 and Credit_score <= 350:\n",
    "        print(\"You qualify for a GHS 2000 loan\")\n",
    "        scoring_table[\"Eligibility\"] = 2000\n",
    "\n",
    "    elif Credit_score >= 351 and Credit_score <= 400:\n",
    "        print(\"You qualify for a GHS 3000 loan\")\n",
    "        scoring_table[\"Eligibility\"] = 3000\n",
    "\n",
    "\n",
    "    elif Credit_score >= 401 and Credit_score <= 500:\n",
    "        print(\"You qualify for a GHS 5000 loan\")\n",
    "        scoring_table[\"Eligibility\"] = 5000\n",
    "\n"
   ]
  },
  {
   "cell_type": "markdown",
   "metadata": {},
   "source": [
    "# Combining Eligibility and Score Tables"
   ]
  },
  {
   "cell_type": "code",
   "execution_count": null,
   "metadata": {
    "scrolled": true
   },
   "outputs": [],
   "source": [
    "comb = scoring_table | elig_copy\n",
    "comb\n"
   ]
  },
  {
   "cell_type": "code",
   "execution_count": null,
   "metadata": {},
   "outputs": [],
   "source": [
    "combined.append(comb)"
   ]
  },
  {
   "cell_type": "code",
   "execution_count": null,
   "metadata": {},
   "outputs": [],
   "source": [
    "print(\"Elligible\", elligible)"
   ]
  },
  {
   "cell_type": "code",
   "execution_count": null,
   "metadata": {
    "scrolled": false
   },
   "outputs": [],
   "source": [
    "Credit_score"
   ]
  },
  {
   "cell_type": "markdown",
   "metadata": {},
   "source": [
    "# Converting and saving Score Table"
   ]
  },
  {
   "cell_type": "code",
   "execution_count": null,
   "metadata": {
    "scrolled": true
   },
   "outputs": [],
   "source": [
    "score_table = pd.DataFrame.from_dict(score_table)\n",
    "score_table"
   ]
  },
  {
   "cell_type": "code",
   "execution_count": null,
   "metadata": {},
   "outputs": [],
   "source": [
    "score_table.to_csv(r'C:\\Users\\Chakdahah\\Downloads\\Django-main\\Django-main\\analytics_project\\scoretable298.csv')"
   ]
  },
  {
   "cell_type": "markdown",
   "metadata": {},
   "source": [
    "# Converting and saving Eligibility Table"
   ]
  },
  {
   "cell_type": "code",
   "execution_count": null,
   "metadata": {
    "scrolled": false
   },
   "outputs": [],
   "source": [
    "### convert dict to df\n",
    "\n",
    "elligible = pd.DataFrame.from_dict(elligible)\n",
    "elligible"
   ]
  },
  {
   "cell_type": "code",
   "execution_count": null,
   "metadata": {},
   "outputs": [],
   "source": [
    "type(elligible)"
   ]
  },
  {
   "cell_type": "code",
   "execution_count": null,
   "metadata": {},
   "outputs": [],
   "source": [
    "elligible.to_csv(r'C:\\Users\\Chakdahah\\Downloads\\Django-main\\Django-main\\analytics_project\\elligible298.csv')"
   ]
  },
  {
   "cell_type": "markdown",
   "metadata": {},
   "source": [
    "# Converting and saving Combined Table"
   ]
  },
  {
   "cell_type": "code",
   "execution_count": null,
   "metadata": {
    "scrolled": true
   },
   "outputs": [],
   "source": [
    "combined_table = pd.DataFrame.from_dict(combined)\n",
    "combined_table"
   ]
  },
  {
   "cell_type": "code",
   "execution_count": null,
   "metadata": {},
   "outputs": [],
   "source": [
    "combined_table.to_csv(r'C:\\Users\\Chakdahah\\Downloads\\Django-main\\Django-main\\analytics_project\\combtable298.csv')"
   ]
  },
  {
   "cell_type": "code",
   "execution_count": null,
   "metadata": {
    "scrolled": true
   },
   "outputs": [],
   "source": [
    "logging.basicConfig(format='%(asctime)s - %(message)s', level=logging.INFO)\n",
    "logging.info('End of Code')"
   ]
  },
  {
   "cell_type": "markdown",
   "metadata": {},
   "source": [
    "# Score and risk grade table "
   ]
  },
  {
   "cell_type": "code",
   "execution_count": null,
   "metadata": {
    "scrolled": false
   },
   "outputs": [],
   "source": [
    "details = {\n",
    "    'Risk Ranking' : ['RR-1', 'RR-2', 'RR-3', 'RR-4'],\n",
    "    'Minimum Score' : [200,251,351,401],\n",
    "    'Maximum Score' : [250,350,400,500],\n",
    "    'Qualifying Amount(GHS)':[1000,2000,3000,5000]\n",
    "}\n",
    "  \n",
    "# creating a Dataframe object \n",
    "df = pd.DataFrame(details)\n",
    "df"
   ]
  }
 ],
 "metadata": {
  "kernelspec": {
   "display_name": "Python 3 (ipykernel)",
   "language": "python",
   "name": "python3"
  },
  "language_info": {
   "codemirror_mode": {
    "name": "ipython",
    "version": 3
   },
   "file_extension": ".py",
   "mimetype": "text/x-python",
   "name": "python",
   "nbconvert_exporter": "python",
   "pygments_lexer": "ipython3",
   "version": "3.11.2"
  }
 },
 "nbformat": 4,
 "nbformat_minor": 4
}

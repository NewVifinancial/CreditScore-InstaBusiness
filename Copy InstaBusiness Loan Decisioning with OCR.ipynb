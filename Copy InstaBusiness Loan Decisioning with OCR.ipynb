{
 "cells": [
  {
   "cell_type": "markdown",
   "metadata": {},
   "source": [
    "# Agent Loan Decisioning"
   ]
  },
  {
   "cell_type": "code",
   "execution_count": 54,
   "metadata": {
    "scrolled": true
   },
   "outputs": [],
   "source": [
    "import sys\n",
    "import datetime\n",
    "from datetime import date,timedelta\n",
    "import numpy as np\n",
    "import pandas as pd\n",
    "import camelot\n",
    "import matplotlib.pyplot as plt\n",
    "import logging"
   ]
  },
  {
   "cell_type": "code",
   "execution_count": 55,
   "metadata": {},
   "outputs": [
    {
     "name": "stderr",
     "output_type": "stream",
     "text": [
      "2023-05-11 10:56:31,150 - Code Begin\n"
     ]
    }
   ],
   "source": [
    "logging.basicConfig(format='%(asctime)s - %(message)s', level=logging.INFO)\n",
    "logging.info('Code Begin')"
   ]
  },
  {
   "cell_type": "code",
   "execution_count": 56,
   "metadata": {
    "scrolled": true
   },
   "outputs": [],
   "source": [
    "# sys.maxsize\n",
    "# 2147483647\n"
   ]
  },
  {
   "cell_type": "markdown",
   "metadata": {},
   "source": [
    "\n",
    "Qualifying Matrix\n",
    "\n",
    "1.\tAgent Length of Service - 3 months\n",
    "\n",
    "2.\tAgent Frequency of use/activity - >= 65 transactions(count) in total\n",
    "\n",
    "3.\tAgent Frequency of rebalance - >= 45 inbound(count) in total\n",
    "\n",
    "4.\tMedian Cash-In for last 90 days - avg. txn amnt - ghs5000 \n",
    "\n",
    "5.\tMode Cash-In for last 90 days - lowest amnt cash in - ghs1000 \n",
    "\n",
    "6.\tMedian Cash-Out for last 90 days - avg. txn amnt - ghs5000\n",
    "\n",
    "7.\tMode Cash-Out for last 90 days - lowest amnt cash out - ghs1000 "
   ]
  },
  {
   "cell_type": "code",
   "execution_count": null,
   "metadata": {
    "scrolled": true
   },
   "outputs": [
    {
     "name": "stderr",
     "output_type": "stream",
     "text": [
      "2023-05-11T11:14:01 - INFO - Processing page-1\n",
      "2023-05-11 11:14:01,486 - Processing page-1\n",
      "2023-05-11T11:14:05 - INFO - Processing page-2\n",
      "2023-05-11 11:14:05,836 - Processing page-2\n",
      "2023-05-11T11:14:10 - INFO - Processing page-3\n",
      "2023-05-11 11:14:10,443 - Processing page-3\n",
      "2023-05-11T11:14:14 - INFO - Processing page-4\n",
      "2023-05-11 11:14:14,831 - Processing page-4\n",
      "2023-05-11T11:14:20 - INFO - Processing page-5\n",
      "2023-05-11 11:14:20,442 - Processing page-5\n",
      "2023-05-11T11:14:25 - INFO - Processing page-6\n",
      "2023-05-11 11:14:25,652 - Processing page-6\n",
      "2023-05-11T11:14:29 - INFO - Processing page-7\n",
      "2023-05-11 11:14:29,988 - Processing page-7\n",
      "2023-05-11T11:14:34 - INFO - Processing page-8\n",
      "2023-05-11 11:14:34,686 - Processing page-8\n",
      "2023-05-11T11:14:39 - INFO - Processing page-9\n",
      "2023-05-11 11:14:39,627 - Processing page-9\n",
      "2023-05-11T11:14:45 - INFO - Processing page-10\n",
      "2023-05-11 11:14:45,145 - Processing page-10\n",
      "2023-05-11T11:14:51 - INFO - Processing page-11\n",
      "2023-05-11 11:14:51,548 - Processing page-11\n",
      "2023-05-11T11:14:57 - INFO - Processing page-12\n",
      "2023-05-11 11:14:57,502 - Processing page-12\n",
      "2023-05-11T11:15:02 - INFO - Processing page-13\n",
      "2023-05-11 11:15:02,144 - Processing page-13\n",
      "2023-05-11T11:15:06 - INFO - Processing page-14\n",
      "2023-05-11 11:15:06,110 - Processing page-14\n",
      "2023-05-11T11:15:10 - INFO - Processing page-15\n",
      "2023-05-11 11:15:10,179 - Processing page-15\n",
      "2023-05-11T11:15:14 - INFO - Processing page-16\n",
      "2023-05-11 11:15:14,572 - Processing page-16\n",
      "2023-05-11T11:15:18 - INFO - Processing page-17\n",
      "2023-05-11 11:15:18,671 - Processing page-17\n",
      "2023-05-11T11:15:22 - INFO - Processing page-18\n",
      "2023-05-11 11:15:22,547 - Processing page-18\n",
      "2023-05-11T11:15:27 - INFO - Processing page-19\n",
      "2023-05-11 11:15:27,099 - Processing page-19\n",
      "2023-05-11T11:15:31 - INFO - Processing page-20\n",
      "2023-05-11 11:15:31,655 - Processing page-20\n",
      "2023-05-11T11:15:35 - INFO - Processing page-21\n",
      "2023-05-11 11:15:35,743 - Processing page-21\n",
      "2023-05-11T11:15:40 - INFO - Processing page-22\n",
      "2023-05-11 11:15:40,027 - Processing page-22\n",
      "2023-05-11T11:15:44 - INFO - Processing page-23\n",
      "2023-05-11 11:15:44,772 - Processing page-23\n",
      "2023-05-11T11:15:49 - INFO - Processing page-24\n",
      "2023-05-11 11:15:49,638 - Processing page-24\n",
      "2023-05-11T11:15:55 - INFO - Processing page-25\n",
      "2023-05-11 11:15:55,683 - Processing page-25\n",
      "2023-05-11T11:16:00 - INFO - Processing page-26\n",
      "2023-05-11 11:16:00,365 - Processing page-26\n",
      "2023-05-11T11:16:04 - INFO - Processing page-27\n",
      "2023-05-11 11:16:04,685 - Processing page-27\n",
      "2023-05-11T11:16:10 - INFO - Processing page-28\n",
      "2023-05-11 11:16:10,118 - Processing page-28\n",
      "2023-05-11T11:16:16 - INFO - Processing page-29\n",
      "2023-05-11 11:16:16,984 - Processing page-29\n",
      "2023-05-11T11:16:22 - INFO - Processing page-30\n",
      "2023-05-11 11:16:22,163 - Processing page-30\n",
      "2023-05-11T11:16:26 - INFO - Processing page-31\n",
      "2023-05-11 11:16:26,512 - Processing page-31\n",
      "2023-05-11T11:16:30 - INFO - Processing page-32\n",
      "2023-05-11 11:16:30,704 - Processing page-32\n",
      "2023-05-11T11:16:34 - INFO - Processing page-33\n",
      "2023-05-11 11:16:34,966 - Processing page-33\n",
      "2023-05-11T11:16:39 - INFO - Processing page-34\n",
      "2023-05-11 11:16:39,409 - Processing page-34\n",
      "2023-05-11T11:16:44 - INFO - Processing page-35\n",
      "2023-05-11 11:16:44,271 - Processing page-35\n",
      "2023-05-11T11:16:48 - INFO - Processing page-36\n",
      "2023-05-11 11:16:48,765 - Processing page-36\n",
      "2023-05-11T11:16:52 - INFO - Processing page-37\n",
      "2023-05-11 11:16:52,945 - Processing page-37\n",
      "2023-05-11T11:16:56 - INFO - Processing page-38\n",
      "2023-05-11 11:16:56,889 - Processing page-38\n",
      "2023-05-11T11:17:01 - INFO - Processing page-39\n",
      "2023-05-11 11:17:01,134 - Processing page-39\n",
      "2023-05-11T11:17:06 - INFO - Processing page-40\n",
      "2023-05-11 11:17:06,767 - Processing page-40\n",
      "2023-05-11T11:17:11 - INFO - Processing page-41\n",
      "2023-05-11 11:17:11,521 - Processing page-41\n",
      "2023-05-11T11:17:16 - INFO - Processing page-42\n",
      "2023-05-11 11:17:16,217 - Processing page-42\n",
      "2023-05-11T11:17:20 - INFO - Processing page-43\n",
      "2023-05-11 11:17:20,321 - Processing page-43\n",
      "2023-05-11T11:17:24 - INFO - Processing page-44\n",
      "2023-05-11 11:17:24,543 - Processing page-44\n",
      "2023-05-11T11:17:28 - INFO - Processing page-45\n",
      "2023-05-11 11:17:28,712 - Processing page-45\n",
      "2023-05-11T11:17:33 - INFO - Processing page-46\n",
      "2023-05-11 11:17:33,276 - Processing page-46\n",
      "2023-05-11T11:17:37 - INFO - Processing page-47\n",
      "2023-05-11 11:17:37,825 - Processing page-47\n",
      "2023-05-11T11:17:42 - INFO - Processing page-48\n",
      "2023-05-11 11:17:42,405 - Processing page-48\n",
      "2023-05-11T11:17:47 - INFO - Processing page-49\n",
      "2023-05-11 11:17:47,082 - Processing page-49\n",
      "2023-05-11T11:17:51 - INFO - Processing page-50\n",
      "2023-05-11 11:17:51,287 - Processing page-50\n",
      "2023-05-11T11:17:55 - INFO - Processing page-51\n",
      "2023-05-11 11:17:55,466 - Processing page-51\n",
      "2023-05-11T11:17:59 - INFO - Processing page-52\n",
      "2023-05-11 11:17:59,845 - Processing page-52\n",
      "2023-05-11T11:18:03 - INFO - Processing page-53\n",
      "2023-05-11 11:18:03,766 - Processing page-53\n",
      "2023-05-11T11:18:07 - INFO - Processing page-54\n",
      "2023-05-11 11:18:07,589 - Processing page-54\n",
      "2023-05-11T11:18:11 - INFO - Processing page-55\n",
      "2023-05-11 11:18:11,172 - Processing page-55\n",
      "2023-05-11T11:18:16 - INFO - Processing page-56\n",
      "2023-05-11 11:18:16,434 - Processing page-56\n",
      "2023-05-11T11:18:21 - INFO - Processing page-57\n",
      "2023-05-11 11:18:21,659 - Processing page-57\n",
      "2023-05-11T11:18:26 - INFO - Processing page-58\n",
      "2023-05-11 11:18:26,658 - Processing page-58\n",
      "2023-05-11T11:18:30 - INFO - Processing page-59\n",
      "2023-05-11 11:18:30,580 - Processing page-59\n",
      "2023-05-11T11:18:34 - INFO - Processing page-60\n",
      "2023-05-11 11:18:34,418 - Processing page-60\n",
      "2023-05-11T11:18:38 - INFO - Processing page-61\n",
      "2023-05-11 11:18:38,735 - Processing page-61\n",
      "2023-05-11T11:18:42 - INFO - Processing page-62\n",
      "2023-05-11 11:18:42,717 - Processing page-62\n",
      "2023-05-11T11:18:47 - INFO - Processing page-63\n",
      "2023-05-11 11:18:47,319 - Processing page-63\n",
      "2023-05-11T11:18:51 - INFO - Processing page-64\n",
      "2023-05-11 11:18:51,847 - Processing page-64\n",
      "2023-05-11T11:18:56 - INFO - Processing page-65\n",
      "2023-05-11 11:18:56,336 - Processing page-65\n",
      "2023-05-11T11:19:00 - INFO - Processing page-66\n",
      "2023-05-11 11:19:00,969 - Processing page-66\n",
      "2023-05-11T11:19:06 - INFO - Processing page-67\n",
      "2023-05-11 11:19:06,149 - Processing page-67\n",
      "2023-05-11T11:19:10 - INFO - Processing page-68\n",
      "2023-05-11 11:19:10,511 - Processing page-68\n",
      "2023-05-11T11:19:14 - INFO - Processing page-69\n",
      "2023-05-11 11:19:14,595 - Processing page-69\n",
      "2023-05-11T11:19:19 - INFO - Processing page-70\n",
      "2023-05-11 11:19:19,110 - Processing page-70\n",
      "2023-05-11T11:19:23 - INFO - Processing page-71\n",
      "2023-05-11 11:19:23,279 - Processing page-71\n",
      "2023-05-11T11:19:26 - INFO - Processing page-72\n",
      "2023-05-11 11:19:26,950 - Processing page-72\n",
      "2023-05-11T11:19:32 - INFO - Processing page-73\n",
      "2023-05-11 11:19:32,157 - Processing page-73\n",
      "2023-05-11T11:19:36 - INFO - Processing page-74\n",
      "2023-05-11 11:19:36,876 - Processing page-74\n",
      "2023-05-11T11:19:41 - INFO - Processing page-75\n",
      "2023-05-11 11:19:41,355 - Processing page-75\n",
      "2023-05-11T11:19:46 - INFO - Processing page-76\n",
      "2023-05-11 11:19:46,058 - Processing page-76\n",
      "2023-05-11T11:19:50 - INFO - Processing page-77\n",
      "2023-05-11 11:19:50,736 - Processing page-77\n",
      "2023-05-11T11:19:54 - INFO - Processing page-78\n",
      "2023-05-11 11:19:54,880 - Processing page-78\n",
      "2023-05-11T11:19:59 - INFO - Processing page-79\n",
      "2023-05-11 11:19:59,072 - Processing page-79\n",
      "2023-05-11T11:20:03 - INFO - Processing page-80\n",
      "2023-05-11 11:20:03,509 - Processing page-80\n",
      "2023-05-11T11:20:07 - INFO - Processing page-81\n",
      "2023-05-11 11:20:07,928 - Processing page-81\n",
      "2023-05-11T11:20:12 - INFO - Processing page-82\n",
      "2023-05-11 11:20:12,195 - Processing page-82\n",
      "2023-05-11T11:20:16 - INFO - Processing page-83\n",
      "2023-05-11 11:20:16,993 - Processing page-83\n",
      "2023-05-11T11:20:21 - INFO - Processing page-84\n",
      "2023-05-11 11:20:21,781 - Processing page-84\n",
      "2023-05-11T11:20:26 - INFO - Processing page-85\n",
      "2023-05-11 11:20:26,121 - Processing page-85\n",
      "2023-05-11T11:20:31 - INFO - Processing page-86\n",
      "2023-05-11 11:20:31,613 - Processing page-86\n",
      "2023-05-11T11:20:36 - INFO - Processing page-87\n",
      "2023-05-11 11:20:36,119 - Processing page-87\n",
      "2023-05-11T11:20:40 - INFO - Processing page-88\n",
      "2023-05-11 11:20:40,962 - Processing page-88\n",
      "2023-05-11T11:20:45 - INFO - Processing page-89\n"
     ]
    },
    {
     "name": "stderr",
     "output_type": "stream",
     "text": [
      "2023-05-11 11:20:45,608 - Processing page-89\n",
      "2023-05-11T11:20:51 - INFO - Processing page-90\n",
      "2023-05-11 11:20:51,618 - Processing page-90\n",
      "2023-05-11T11:20:57 - INFO - Processing page-91\n",
      "2023-05-11 11:20:57,601 - Processing page-91\n",
      "2023-05-11T11:21:03 - INFO - Processing page-92\n",
      "2023-05-11 11:21:03,966 - Processing page-92\n",
      "2023-05-11T11:21:08 - INFO - Processing page-93\n",
      "2023-05-11 11:21:08,543 - Processing page-93\n",
      "2023-05-11T11:21:13 - INFO - Processing page-94\n",
      "2023-05-11 11:21:13,714 - Processing page-94\n",
      "2023-05-11T11:21:18 - INFO - Processing page-95\n",
      "2023-05-11 11:21:18,955 - Processing page-95\n",
      "2023-05-11T11:21:24 - INFO - Processing page-96\n",
      "2023-05-11 11:21:24,530 - Processing page-96\n",
      "2023-05-11T11:21:29 - INFO - Processing page-97\n",
      "2023-05-11 11:21:29,990 - Processing page-97\n",
      "2023-05-11T11:21:34 - INFO - Processing page-98\n",
      "2023-05-11 11:21:34,424 - Processing page-98\n",
      "2023-05-11T11:21:38 - INFO - Processing page-99\n",
      "2023-05-11 11:21:38,816 - Processing page-99\n",
      "2023-05-11T11:21:43 - INFO - Processing page-100\n",
      "2023-05-11 11:21:43,413 - Processing page-100\n",
      "2023-05-11T11:21:47 - INFO - Processing page-101\n",
      "2023-05-11 11:21:47,137 - Processing page-101\n",
      "2023-05-11T11:21:51 - INFO - Processing page-102\n",
      "2023-05-11 11:21:51,734 - Processing page-102\n",
      "2023-05-11T11:21:56 - INFO - Processing page-103\n",
      "2023-05-11 11:21:56,542 - Processing page-103\n",
      "2023-05-11T11:22:01 - INFO - Processing page-104\n",
      "2023-05-11 11:22:01,954 - Processing page-104\n",
      "2023-05-11T11:22:05 - INFO - Processing page-105\n",
      "2023-05-11 11:22:05,710 - Processing page-105\n",
      "2023-05-11T11:22:09 - INFO - Processing page-106\n",
      "2023-05-11 11:22:09,716 - Processing page-106\n",
      "2023-05-11T11:22:13 - INFO - Processing page-107\n",
      "2023-05-11 11:22:13,923 - Processing page-107\n",
      "2023-05-11T11:22:18 - INFO - Processing page-108\n",
      "2023-05-11 11:22:18,337 - Processing page-108\n",
      "2023-05-11T11:22:29 - INFO - Processing page-109\n",
      "2023-05-11 11:22:29,927 - Processing page-109\n",
      "2023-05-11T11:22:36 - INFO - Processing page-110\n",
      "2023-05-11 11:22:36,261 - Processing page-110\n",
      "2023-05-11T11:22:41 - INFO - Processing page-111\n",
      "2023-05-11 11:22:41,239 - Processing page-111\n",
      "2023-05-11T11:22:45 - INFO - Processing page-112\n",
      "2023-05-11 11:22:45,327 - Processing page-112\n",
      "2023-05-11T11:22:50 - INFO - Processing page-113\n",
      "2023-05-11 11:22:50,037 - Processing page-113\n",
      "2023-05-11T11:22:54 - INFO - Processing page-114\n",
      "2023-05-11 11:22:54,254 - Processing page-114\n",
      "2023-05-11T11:22:58 - INFO - Processing page-115\n",
      "2023-05-11 11:22:58,410 - Processing page-115\n",
      "2023-05-11T11:23:02 - INFO - Processing page-116\n",
      "2023-05-11 11:23:02,890 - Processing page-116\n",
      "2023-05-11T11:23:07 - INFO - Processing page-117\n",
      "2023-05-11 11:23:07,108 - Processing page-117\n",
      "2023-05-11T11:23:11 - INFO - Processing page-118\n",
      "2023-05-11 11:23:11,113 - Processing page-118\n",
      "2023-05-11T11:23:14 - INFO - Processing page-119\n",
      "2023-05-11 11:23:14,989 - Processing page-119\n",
      "2023-05-11T11:23:18 - INFO - Processing page-120\n",
      "2023-05-11 11:23:18,856 - Processing page-120\n",
      "2023-05-11T11:23:23 - INFO - Processing page-121\n",
      "2023-05-11 11:23:23,101 - Processing page-121\n",
      "2023-05-11T11:23:28 - INFO - Processing page-122\n",
      "2023-05-11 11:23:28,596 - Processing page-122\n",
      "2023-05-11T11:23:34 - INFO - Processing page-123\n",
      "2023-05-11 11:23:34,638 - Processing page-123\n",
      "2023-05-11T11:23:42 - INFO - Processing page-124\n",
      "2023-05-11 11:23:42,072 - Processing page-124\n",
      "2023-05-11T11:23:47 - INFO - Processing page-125\n",
      "2023-05-11 11:23:47,515 - Processing page-125\n",
      "2023-05-11T11:23:52 - INFO - Processing page-126\n",
      "2023-05-11 11:23:52,375 - Processing page-126\n",
      "2023-05-11T11:23:56 - INFO - Processing page-127\n",
      "2023-05-11 11:23:56,375 - Processing page-127\n",
      "2023-05-11T11:24:01 - INFO - Processing page-128\n",
      "2023-05-11 11:24:01,419 - Processing page-128\n",
      "2023-05-11T11:24:05 - INFO - Processing page-129\n",
      "2023-05-11 11:24:05,697 - Processing page-129\n",
      "2023-05-11T11:24:10 - INFO - Processing page-130\n",
      "2023-05-11 11:24:10,123 - Processing page-130\n",
      "2023-05-11T11:24:14 - INFO - Processing page-131\n",
      "2023-05-11 11:24:14,348 - Processing page-131\n",
      "2023-05-11T11:24:18 - INFO - Processing page-132\n",
      "2023-05-11 11:24:18,850 - Processing page-132\n",
      "2023-05-11T11:24:23 - INFO - Processing page-133\n",
      "2023-05-11 11:24:23,036 - Processing page-133\n",
      "2023-05-11T11:24:27 - INFO - Processing page-134\n",
      "2023-05-11 11:24:27,892 - Processing page-134\n",
      "2023-05-11T11:24:32 - INFO - Processing page-135\n",
      "2023-05-11 11:24:32,823 - Processing page-135\n",
      "2023-05-11T11:24:37 - INFO - Processing page-136\n",
      "2023-05-11 11:24:37,651 - Processing page-136\n",
      "2023-05-11T11:24:42 - INFO - Processing page-137\n",
      "2023-05-11 11:24:42,214 - Processing page-137\n",
      "2023-05-11T11:24:46 - INFO - Processing page-138\n",
      "2023-05-11 11:24:46,887 - Processing page-138\n",
      "2023-05-11T11:24:51 - INFO - Processing page-139\n",
      "2023-05-11 11:24:51,236 - Processing page-139\n",
      "2023-05-11T11:24:55 - INFO - Processing page-140\n",
      "2023-05-11 11:24:55,344 - Processing page-140\n",
      "2023-05-11T11:25:00 - INFO - Processing page-141\n",
      "2023-05-11 11:25:00,028 - Processing page-141\n",
      "2023-05-11T11:25:05 - INFO - Processing page-142\n",
      "2023-05-11 11:25:05,155 - Processing page-142\n",
      "2023-05-11T11:25:09 - INFO - Processing page-143\n",
      "2023-05-11 11:25:09,032 - Processing page-143\n",
      "2023-05-11T11:25:13 - INFO - Processing page-144\n",
      "2023-05-11 11:25:13,890 - Processing page-144\n",
      "2023-05-11T11:25:18 - INFO - Processing page-145\n",
      "2023-05-11 11:25:18,095 - Processing page-145\n",
      "2023-05-11T11:25:22 - INFO - Processing page-146\n",
      "2023-05-11 11:25:22,356 - Processing page-146\n",
      "2023-05-11T11:25:26 - INFO - Processing page-147\n",
      "2023-05-11 11:25:26,920 - Processing page-147\n",
      "2023-05-11T11:25:31 - INFO - Processing page-148\n",
      "2023-05-11 11:25:31,988 - Processing page-148\n",
      "2023-05-11T11:25:35 - INFO - Processing page-149\n",
      "2023-05-11 11:25:35,874 - Processing page-149\n",
      "2023-05-11T11:25:39 - INFO - Processing page-150\n",
      "2023-05-11 11:25:39,526 - Processing page-150\n",
      "2023-05-11T11:25:43 - INFO - Processing page-151\n",
      "2023-05-11 11:25:43,273 - Processing page-151\n",
      "2023-05-11T11:25:47 - INFO - Processing page-152\n",
      "2023-05-11 11:25:47,027 - Processing page-152\n",
      "2023-05-11T11:25:50 - INFO - Processing page-153\n",
      "2023-05-11 11:25:50,895 - Processing page-153\n",
      "2023-05-11T11:25:54 - INFO - Processing page-154\n",
      "2023-05-11 11:25:54,878 - Processing page-154\n",
      "2023-05-11T11:26:03 - INFO - Processing page-155\n",
      "2023-05-11 11:26:03,140 - Processing page-155\n",
      "2023-05-11T11:26:11 - INFO - Processing page-156\n",
      "2023-05-11 11:26:11,891 - Processing page-156\n",
      "2023-05-11T11:26:17 - INFO - Processing page-157\n",
      "2023-05-11 11:26:17,692 - Processing page-157\n",
      "2023-05-11T11:26:21 - INFO - Processing page-158\n",
      "2023-05-11 11:26:21,846 - Processing page-158\n",
      "2023-05-11T11:26:26 - INFO - Processing page-159\n",
      "2023-05-11 11:26:26,587 - Processing page-159\n",
      "2023-05-11T11:26:31 - INFO - Processing page-160\n",
      "2023-05-11 11:26:31,178 - Processing page-160\n",
      "2023-05-11T11:26:35 - INFO - Processing page-161\n",
      "2023-05-11 11:26:35,520 - Processing page-161\n",
      "2023-05-11T11:26:40 - INFO - Processing page-162\n",
      "2023-05-11 11:26:40,203 - Processing page-162\n",
      "2023-05-11T11:26:44 - INFO - Processing page-163\n",
      "2023-05-11 11:26:44,554 - Processing page-163\n",
      "2023-05-11T11:26:49 - INFO - Processing page-164\n",
      "2023-05-11 11:26:49,060 - Processing page-164\n"
     ]
    }
   ],
   "source": [
    "\n",
    "##### full pdf reading\n",
    "\n",
    "# tables = camelot.read_pdf(r'C:\\Users\\Chakdahah\\MomoStatementReport.pdf',pages='all') #emma data\n",
    "# tables = camelot.read_pdf(r'C:\\Users\\Chakdahah\\MomoStatement2.pdf',pages='all') #prince momo agent2\n",
    "# tables = camelot.read_pdf(r'C:\\Users\\Chakdahah\\momopages2.pdf',pages='all') # 2 pages prince\n",
    "# tables = camelot.read_pdf(r'C:\\Users\\Chakdahah\\Momopages3.pdf',pages='all') #50 pages prince\n",
    "# tables = camelot.read_pdf(r'C:\\Users\\Chakdahah\\lastlast.pdf',pages='all') # 5 pages prince containig each month \n",
    "# tables = camelot.read_pdf(r'C:\\Users\\Chakdahah\\MomoStatement98.pdf',pages='all') # 98 pages prince containig each month 26mi\n",
    "# tables = camelot.read_pdf(r'C:\\Users\\Chakdahah\\MomoStatementmax.pdf',pages='all') # maxwell 235 pages \n",
    "# tables = camelot.read_pdf(r'C:\\Users\\Chakdahah\\MomoStatement256.pdf',pages='all') # maxwell 256 pages \n",
    "tables = camelot.read_pdf(r'C:\\Users\\Chakdahah\\MomoStatement298.pdf',pages='all') # amokoaa regina 298 pages  \n",
    "\n",
    "tables\n",
    "\n",
    "\n",
    "\n",
    "# tables[j].parsing_report #check parsing report to see accuracy of parsing and other details\n",
    "\n",
    "# append to one csv file\n",
    "\n",
    "table_fin = tables[0].df #convert first table to df and assign to variable \n",
    "\n",
    "for i in range(1,len(tables)-1): # skip 0-nth of tables\n",
    "    print(i)\n",
    "    t = tables[i].df \n",
    "    t.drop(t.index[0], inplace = True) # drop first row of df\n",
    "    table_fin = pd.concat([table_fin, t], axis = 0)\n",
    "    \n",
    "\n",
    "    print(t)\n"
   ]
  },
  {
   "cell_type": "code",
   "execution_count": null,
   "metadata": {
    "scrolled": true
   },
   "outputs": [],
   "source": [
    "# Assign tables into momo data variable\n",
    "\n",
    "momo_data = table_fin\n",
    "momo_data"
   ]
  },
  {
   "cell_type": "code",
   "execution_count": null,
   "metadata": {},
   "outputs": [],
   "source": [
    "momo_data[~momo_data.iloc[:,0].str.contains(\"\\n\")]"
   ]
  },
  {
   "cell_type": "code",
   "execution_count": null,
   "metadata": {
    "scrolled": true
   },
   "outputs": [],
   "source": [
    "momo_data.columns = momo_data.iloc[0] #set column names equal to values in row index position 0\n",
    "momo_data = momo_data[1:] # remove first row from DataFrame"
   ]
  },
  {
   "cell_type": "code",
   "execution_count": null,
   "metadata": {
    "scrolled": true
   },
   "outputs": [],
   "source": [
    "momo_data.reset_index(drop=True, inplace=True)"
   ]
  },
  {
   "cell_type": "code",
   "execution_count": null,
   "metadata": {
    "scrolled": true
   },
   "outputs": [],
   "source": [
    "momo_data"
   ]
  },
  {
   "cell_type": "code",
   "execution_count": null,
   "metadata": {
    "scrolled": true
   },
   "outputs": [],
   "source": [
    "#Reading data from csv file\n",
    "\n",
    "# momo_data = pd.read_csv(r'\\Users\\Chakdahah\\Cleaned_Momo.csv', skipinitialspace = True)\n",
    "\n",
    "# Clean whitespaces in colunn name and entire dataframe\n",
    "\n",
    "momo_data =momo_data.rename(columns=lambda x: x.strip())\n",
    "momo_data =momo_data.applymap(lambda x: x.strip() if isinstance(x, str) else x)\n",
    "\n",
    "momo_data.head()"
   ]
  },
  {
   "cell_type": "code",
   "execution_count": null,
   "metadata": {
    "scrolled": true
   },
   "outputs": [],
   "source": [
    "\n",
    "# remove unwanted characters from end of column names\n",
    "# mmomo_data.rename(columns=lambda x: x.strip('.'),inplace =True)\n",
    "\n",
    "# remove all unwanted char acters in column names\n",
    "momo_data.rename(columns=lambda s: s.replace(\".\", \"\"), inplace=True)\n",
    "\n",
    "# replace whitespaces with underscore\n",
    "momo_data.rename(columns=lambda s: s.replace(\" \", \"_\"), inplace=True)"
   ]
  },
  {
   "cell_type": "code",
   "execution_count": null,
   "metadata": {
    "scrolled": true
   },
   "outputs": [],
   "source": [
    "# cast appropriate data types\n",
    "momo_data['AMOUNT'] = pd.to_numeric(momo_data['AMOUNT'],errors='coerce')\n",
    "momo_data['BAL_BEFORE'] = pd.to_numeric(momo_data['BAL_BEFORE'],errors='coerce')\n",
    "momo_data['BAL_AFTER'] = pd.to_numeric(momo_data['BAL_AFTER'],errors='coerce')\n",
    "momo_data['F_ID'] = pd.to_numeric(momo_data['F_ID'],errors='coerce')\n"
   ]
  },
  {
   "cell_type": "code",
   "execution_count": null,
   "metadata": {
    "scrolled": true
   },
   "outputs": [],
   "source": [
    "momo_data.info(all)"
   ]
  },
  {
   "cell_type": "code",
   "execution_count": null,
   "metadata": {
    "scrolled": true
   },
   "outputs": [],
   "source": [
    "#Suppressing any scientific notation in entire csv file.\n",
    "\n",
    "pd.set_option('display.float_format', lambda x: '%.0f' % x)"
   ]
  },
  {
   "cell_type": "code",
   "execution_count": null,
   "metadata": {
    "scrolled": false
   },
   "outputs": [],
   "source": [
    "momo_data.head()"
   ]
  },
  {
   "cell_type": "code",
   "execution_count": null,
   "metadata": {},
   "outputs": [],
   "source": [
    "m =momo_data['TRANSACTION_DATE'].str.split(' ', expand=True)\n"
   ]
  },
  {
   "cell_type": "code",
   "execution_count": null,
   "metadata": {},
   "outputs": [],
   "source": [
    "\n",
    "momo_data['TRANSACTION_DATE'] = m[0]\n",
    "momo_data['TRANSACTION_TIME'] = m[1]\n"
   ]
  },
  {
   "cell_type": "code",
   "execution_count": null,
   "metadata": {},
   "outputs": [],
   "source": [
    "# shift column 'C' to first position\n",
    "first_column = momo_data.pop('TRANSACTION_TIME')\n",
    "  \n",
    "# insert column using insert(position,column_name,first_column) function\n",
    "momo_data.insert(1, 'TRANSACTION_TIME', first_column)\n",
    "  "
   ]
  },
  {
   "cell_type": "code",
   "execution_count": null,
   "metadata": {
    "scrolled": true
   },
   "outputs": [],
   "source": [
    "momo_data.info(all)"
   ]
  },
  {
   "cell_type": "code",
   "execution_count": null,
   "metadata": {},
   "outputs": [],
   "source": [
    "momo_data['FROM_NAME'] = momo_data.FROM_NAME.str.replace('\\n',' ')"
   ]
  },
  {
   "cell_type": "code",
   "execution_count": null,
   "metadata": {
    "scrolled": true
   },
   "outputs": [],
   "source": [
    "momo_data.tail()"
   ]
  },
  {
   "cell_type": "code",
   "execution_count": null,
   "metadata": {},
   "outputs": [],
   "source": [
    "num=momo_data.loc[momo_data['TRANS_TYPE'] == 'CASH_IN', 'FROM_NO'].iloc[0]\n",
    "num"
   ]
  },
  {
   "cell_type": "code",
   "execution_count": null,
   "metadata": {},
   "outputs": [],
   "source": [
    "name=momo_data.loc[momo_data['TRANS_TYPE'] == 'CASH_IN', 'FROM_NAME'].iloc[0]\n",
    "name"
   ]
  },
  {
   "cell_type": "code",
   "execution_count": null,
   "metadata": {
    "scrolled": true
   },
   "outputs": [],
   "source": [
    "momo_data[~momo_data.iloc[:,0].str.contains(\"\\n\")]"
   ]
  },
  {
   "cell_type": "code",
   "execution_count": null,
   "metadata": {},
   "outputs": [],
   "source": [
    "df3=momo_data.loc[momo_data['TRANS_TYPE'] == 'CASH_IN', 'FROM_NAME'].iloc[0]\n",
    "df3"
   ]
  },
  {
   "cell_type": "code",
   "execution_count": null,
   "metadata": {},
   "outputs": [],
   "source": [
    "momo_data =momo_data.dropna()"
   ]
  },
  {
   "cell_type": "code",
   "execution_count": null,
   "metadata": {},
   "outputs": [],
   "source": [
    "# store date as object for later use\n",
    "mi = momo_data['TRANSACTION_DATE']"
   ]
  },
  {
   "cell_type": "code",
   "execution_count": null,
   "metadata": {},
   "outputs": [],
   "source": [
    "momo_data['TRANSACTION_DATE'] = pd.to_datetime(momo_data['TRANSACTION_DATE'])"
   ]
  },
  {
   "cell_type": "markdown",
   "metadata": {},
   "source": [
    "# Converting PDF to CSV and XLSX\n"
   ]
  },
  {
   "cell_type": "code",
   "execution_count": null,
   "metadata": {
    "scrolled": true
   },
   "outputs": [],
   "source": [
    "## convert momo_data to csv\n",
    "momo_data.to_csv(r'C:\\Users\\Chakdahah\\Downloads\\Django-main\\Django-main\\analytics_project\\StrippedMomotoCSV298.csv',date_format='%d/%m/%Y')\n",
    "\n",
    "momo_data.to_excel(\"StrippedMomotoXLSemma.xlsx\")"
   ]
  },
  {
   "cell_type": "code",
   "execution_count": null,
   "metadata": {
    "scrolled": true
   },
   "outputs": [],
   "source": [
    "# Set empty list and dict\n",
    "masterData = []\n",
    "userData= {}"
   ]
  },
  {
   "cell_type": "markdown",
   "metadata": {},
   "source": [
    "# Calculation of scoring parameters"
   ]
  },
  {
   "cell_type": "code",
   "execution_count": null,
   "metadata": {
    "scrolled": true
   },
   "outputs": [],
   "source": [
    "\n",
    "rows = momo_data.count()[0] # Agent Frequency of use\n",
    "userData[\"freq_of_active\"] = rows\n",
    "\n",
    "\n",
    "\n",
    "MOMO=momo_data[(momo_data == 'CASH_IN').any(axis=1)] # frequency of rebalance\n",
    "MOMOR = MOMO.count()[0]\n",
    "userData[\"freq_of_repl\"] = MOMOR\n",
    "\n",
    "\n",
    "meadnie = momo_data.loc[momo_data['TRANS_TYPE']=='CASH_IN','AMOUNT'].median() #Median Cash-In for last 90days\n",
    "# userData[\"mead_cash_in\"] = meadnie\n",
    "# userData[\"mead_cash_in\"]\n",
    "userData[\"median_cash_in_calc\"] = meadnie*4\n",
    "\n",
    "\n",
    "modnie = momo_data.loc[momo_data['TRANS_TYPE']=='CASH_IN','AMOUNT'].mode() # Mode Cash-In for last 90 days\n",
    "userData[\"mode_cash_in_calc\"] = modnie*4\n",
    "userData[\"mode_cash_in_calc\"] = max(userData[\"mode_cash_in_calc\"]) #for converting from bool to int for processing\n",
    "\n",
    "\n",
    "meadniout = momo_data.loc[momo_data['TRANS_TYPE']=='CASH_OUT','AMOUNT'].median() # Median Cash-Out for last 90 days\n",
    "# userData[\"mead_cash_out\"] = meadniout\n",
    "# userData[\"mead_cash_out\"]\n",
    "userData[\"median_cash_out_calc\"] = meadniout*4\n",
    "\n",
    "\n",
    "modno = momo_data.loc[momo_data['TRANS_TYPE']=='CASH_OUT','AMOUNT'].mode() # Mode Cash-Out for last 90 days\n",
    "userData[\"mode_cash_out_calc\"] = modno*4 \n",
    "userData[\"mode_cash_out_calc\"] = max(userData[\"mode_cash_out_calc\"])\n",
    "\n",
    "\n"
   ]
  },
  {
   "cell_type": "code",
   "execution_count": null,
   "metadata": {},
   "outputs": [],
   "source": [
    "# momo_data.loc[momo_data['TRANS_TYPE']=='CASH_OUT','AMOUNT'].mode() # Mode Cash-Out for last 90 days\n"
   ]
  },
  {
   "cell_type": "code",
   "execution_count": null,
   "metadata": {
    "scrolled": true
   },
   "outputs": [],
   "source": [
    "\n",
    "# print(modnie)\n",
    "# userData[\"mode_cash_in_calc\"] = modnie*4\n",
    "# print(userData[\"mode_cash_in_calc\"])\n",
    "# # userData[\"mode_cash_out_calc\"] = userData[\"mode_cash_out_calc\"]*4\n",
    "\n",
    "# # print(max(userData[\"mode_cash_in_calc\"]))"
   ]
  },
  {
   "cell_type": "code",
   "execution_count": null,
   "metadata": {},
   "outputs": [],
   "source": [
    "# print(max(userData[\"mode_cash_in_calc\"]))"
   ]
  },
  {
   "cell_type": "markdown",
   "metadata": {},
   "source": [
    "# Scoring Criteria Calculation"
   ]
  },
  {
   "cell_type": "code",
   "execution_count": null,
   "metadata": {
    "scrolled": true
   },
   "outputs": [],
   "source": [
    "user_copy = userData.copy()\n",
    "masterData.append(user_copy)"
   ]
  },
  {
   "cell_type": "code",
   "execution_count": null,
   "metadata": {
    "scrolled": true
   },
   "outputs": [],
   "source": [
    "### scoring\n",
    "\n",
    "inelligible = []\n",
    "elligible = []\n",
    "score_table = []\n",
    "scoring_table = {}\n",
    "combined = []"
   ]
  },
  {
   "cell_type": "code",
   "execution_count": null,
   "metadata": {},
   "outputs": [],
   "source": [
    "scoring_table[\"Agent Number\"] = num\n",
    "scoring_table[\"Agent Name\"] = name"
   ]
  },
  {
   "cell_type": "code",
   "execution_count": null,
   "metadata": {
    "scrolled": false
   },
   "outputs": [],
   "source": [
    "\n",
    "\n",
    "## Agent Length of Service - 3 months\n",
    "\n",
    "for i in mi:\n",
    "    u = mi.str.extract('([a-zA-Z ]+)', expand=False).str.strip()\n",
    "    monthcount = u.drop_duplicates()\n",
    "print(monthcount)\n",
    "\n",
    "if len(monthcount)>=3:\n",
    "    scoring_table[\"Length of Service\"] = 100\n",
    "    Credit_score = 100\n",
    "else:\n",
    "    scoring_table[\"Length of Service\"] = 0\n",
    "    Credit_score = 0\n",
    "\n",
    "\n",
    "for index in range(len(masterData)):\n",
    "\n",
    "    ## Frequency of use  >= 65 transactions(count) in total\n",
    "\n",
    "    if masterData[index][\"freq_of_active\"]> 65 and masterData[index][\"freq_of_active\"] <= 75:\n",
    "        user_copy = masterData[index]\n",
    "#         print(user_copy)\n",
    "        Credit_score += 50\n",
    "        scoring_table[\"Frequency of Activity\"] = 50\n",
    "    elif masterData[index][\"freq_of_active\"]> 75:\n",
    "        elig_copy = masterData[index]\n",
    "        Credit_score+= 100\n",
    "        scoring_table[\"Frequency of Activity\"] = 100\n",
    "    else:\n",
    "        scoring_table[\"Frequency of Activity\"] = 0\n",
    "\n",
    "\n",
    "        \n",
    "\n",
    "        \n",
    "        \n",
    "#Agent Frequency of rebalance - >= 45 inbound(count) in total\n",
    "\n",
    "    if masterData[index][\"freq_of_repl\"]>= 45 and masterData[index][\"freq_of_repl\"] <= 54:\n",
    "        user_copy = masterData[index]\n",
    "        Credit_score += 50 \n",
    "        scoring_table[\"Frequency of Rebalance\"] = 50\n",
    "    elif masterData[index][\"freq_of_active\"]> 54:\n",
    "        elig_copy = masterData[index]\n",
    "        Credit_score+= 100\n",
    "        scoring_table[\"Frequency of Rebalance\"] = 100\n",
    "    else:\n",
    "        scoring_table[\"Frequency of Rebalance\"] = 0\n",
    "        \n",
    "\n",
    "        \n",
    "        \n",
    "        # Median Cash-In for last 90 days - avg. txn amnt - ghs5000 \n",
    "\n",
    "        \n",
    "    if masterData[index][\"median_cash_in_calc\"] >= 5000:\n",
    "        user_copy = masterData[index]\n",
    "        Credit_score += 50\n",
    "        scoring_table[\"Median Cash In\"] = 50\n",
    "    else:\n",
    "        Credit_score+= 0\n",
    "        scoring_table[\"Median Cash In\"] = 0\n",
    "\n",
    "        \n",
    "        \n",
    "          # Mode Cash-In for last 90 days - lowest amnt cash in - ghs1000 \n",
    "\n",
    "        \n",
    "    if masterData[index][\"mode_cash_in_calc\"] >= 1000:\n",
    "        user_copy = masterData[index]\n",
    "        Credit_score += 50 \n",
    "        scoring_table[\"Mode Cash In\"] = 50\n",
    "        \n",
    "    else:\n",
    "        elig_copy = masterData[index]\n",
    "        Credit_score+= 0\n",
    "        scoring_table[\"Mode Cash In\"] = 0\n",
    "        \n",
    "        \n",
    "        \n",
    "       # Median Cash-Out for last 90 days - avg. txn amnt - ghs5000\n",
    "\n",
    "\n",
    "    if masterData[index][\"median_cash_out_calc\"] > 5000:\n",
    "        user_copy = masterData[index]\n",
    "        Credit_score += 50 \n",
    "        scoring_table[\"Median Cash Out\"] = 50\n",
    "    else:\n",
    "        elig_copy = masterData[index]\n",
    "        Credit_score+= 0\n",
    "        scoring_table[\"Median Cash Out\"] = 0\n",
    "        \n",
    "#     Mode Cash-Out for last 90 days - lowest amnt cash out - ghs1000 \n",
    "        \n",
    "    if masterData[index][\"mode_cash_out_calc\"] >= 1000:\n",
    "        user_copy = masterData[index]\n",
    "        Credit_score += 50 \n",
    "        scoring_table[\"Mode Cash Out\"] = 50\n",
    "    else:\n",
    "        elig_copy = masterData[index]\n",
    "        Credit_score+= 0   \n",
    "        scoring_table[\"Mode Cash Out\"] = 0\n",
    "    \n",
    "\n",
    "#         print(elig_copy)\n",
    "scoring_table[\"Credit Score\"] = Credit_score\n",
    "score_table.append(scoring_table)        \n",
    "        \n",
    "    "
   ]
  },
  {
   "cell_type": "code",
   "execution_count": null,
   "metadata": {},
   "outputs": [],
   "source": [
    "elligible.append(elig_copy)"
   ]
  },
  {
   "cell_type": "markdown",
   "metadata": {},
   "source": [
    "# Applying scores to Merchants"
   ]
  },
  {
   "cell_type": "code",
   "execution_count": null,
   "metadata": {
    "scrolled": true
   },
   "outputs": [],
   "source": [
    "    \n",
    "    if Credit_score >= 200 and Credit_score <= 250:\n",
    "        print(\"You qualify for a GHS 1000 loan\")\n",
    "        scoring_table[\"Eligibility\"] = 1000\n",
    "\n",
    "    elif Credit_score >= 251 and Credit_score <= 350:\n",
    "        print(\"You qualify for a GHS 2000 loan\")\n",
    "        scoring_table[\"Eligibility\"] = 2000\n",
    "\n",
    "    elif Credit_score >= 351 and Credit_score <= 400:\n",
    "        print(\"You qualify for a GHS 3000 loan\")\n",
    "        scoring_table[\"Eligibility\"] = 3000\n",
    "\n",
    "\n",
    "    elif Credit_score >= 401 and Credit_score <= 500:\n",
    "        print(\"You qualify for a GHS 5000 loan\")\n",
    "        scoring_table[\"Eligibility\"] = 5000\n",
    "\n"
   ]
  },
  {
   "cell_type": "markdown",
   "metadata": {},
   "source": [
    "# Combining Eligibility and Score Tables"
   ]
  },
  {
   "cell_type": "code",
   "execution_count": null,
   "metadata": {
    "scrolled": true
   },
   "outputs": [],
   "source": [
    "comb = scoring_table | elig_copy\n",
    "comb\n"
   ]
  },
  {
   "cell_type": "code",
   "execution_count": null,
   "metadata": {},
   "outputs": [],
   "source": [
    "combined.append(comb)"
   ]
  },
  {
   "cell_type": "code",
   "execution_count": null,
   "metadata": {},
   "outputs": [],
   "source": [
    "print(\"Elligible\", elligible)"
   ]
  },
  {
   "cell_type": "code",
   "execution_count": null,
   "metadata": {
    "scrolled": false
   },
   "outputs": [],
   "source": [
    "Credit_score"
   ]
  },
  {
   "cell_type": "markdown",
   "metadata": {},
   "source": [
    "# Converting and saving Score Table"
   ]
  },
  {
   "cell_type": "code",
   "execution_count": null,
   "metadata": {
    "scrolled": true
   },
   "outputs": [],
   "source": [
    "score_table = pd.DataFrame.from_dict(score_table)\n",
    "score_table"
   ]
  },
  {
   "cell_type": "code",
   "execution_count": null,
   "metadata": {},
   "outputs": [],
   "source": [
    "score_table.to_csv(r'C:\\Users\\Chakdahah\\Downloads\\Django-main\\Django-main\\analytics_project\\scoretable298.csv')"
   ]
  },
  {
   "cell_type": "markdown",
   "metadata": {},
   "source": [
    "# Converting and saving Eligibility Table"
   ]
  },
  {
   "cell_type": "code",
   "execution_count": null,
   "metadata": {
    "scrolled": false
   },
   "outputs": [],
   "source": [
    "### convert dict to df\n",
    "\n",
    "elligible = pd.DataFrame.from_dict(elligible)\n",
    "elligible"
   ]
  },
  {
   "cell_type": "code",
   "execution_count": null,
   "metadata": {},
   "outputs": [],
   "source": [
    "type(elligible)"
   ]
  },
  {
   "cell_type": "code",
   "execution_count": null,
   "metadata": {},
   "outputs": [],
   "source": [
    "elligible.to_csv(r'C:\\Users\\Chakdahah\\Downloads\\Django-main\\Django-main\\analytics_project\\elligible298.csv')"
   ]
  },
  {
   "cell_type": "markdown",
   "metadata": {},
   "source": [
    "# Converting and saving Combined Table"
   ]
  },
  {
   "cell_type": "code",
   "execution_count": null,
   "metadata": {
    "scrolled": true
   },
   "outputs": [],
   "source": [
    "combined_table = pd.DataFrame.from_dict(combined)\n",
    "combined_table"
   ]
  },
  {
   "cell_type": "code",
   "execution_count": null,
   "metadata": {},
   "outputs": [],
   "source": [
    "combined_table.to_csv(r'C:\\Users\\Chakdahah\\Downloads\\Django-main\\Django-main\\analytics_project\\combtable298.csv')"
   ]
  },
  {
   "cell_type": "code",
   "execution_count": null,
   "metadata": {
    "scrolled": true
   },
   "outputs": [],
   "source": [
    "logging.basicConfig(format='%(asctime)s - %(message)s', level=logging.INFO)\n",
    "logging.info('End of Code')"
   ]
  },
  {
   "cell_type": "markdown",
   "metadata": {},
   "source": [
    "# Score and risk grade table "
   ]
  },
  {
   "cell_type": "code",
   "execution_count": null,
   "metadata": {
    "scrolled": false
   },
   "outputs": [],
   "source": [
    "details = {\n",
    "    'Risk Ranking' : ['RR-1', 'RR-2', 'RR-3', 'RR-4'],\n",
    "    'Minimum Score' : [200,251,351,401],\n",
    "    'Maximum Score' : [250,350,400,500],\n",
    "    'Qualifying Amount(GHS)':[1000,2000,3000,5000]\n",
    "}\n",
    "  \n",
    "# creating a Dataframe object \n",
    "df = pd.DataFrame(details)\n",
    "df"
   ]
  }
 ],
 "metadata": {
  "kernelspec": {
   "display_name": "Python 3 (ipykernel)",
   "language": "python",
   "name": "python3"
  },
  "language_info": {
   "codemirror_mode": {
    "name": "ipython",
    "version": 3
   },
   "file_extension": ".py",
   "mimetype": "text/x-python",
   "name": "python",
   "nbconvert_exporter": "python",
   "pygments_lexer": "ipython3",
   "version": "3.11.2"
  }
 },
 "nbformat": 4,
 "nbformat_minor": 4
}
